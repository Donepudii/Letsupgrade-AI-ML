{
 "cells": [
  {
   "cell_type": "markdown",
   "metadata": {},
   "source": [
    "# Question 1:\n",
    "### Write a program to copy the contents of one file to another using a for loop. (Don’t use built-in copy function)"
   ]
  },
  {
   "cell_type": "code",
   "execution_count": 1,
   "metadata": {},
   "outputs": [
    {
     "name": "stdout",
     "output_type": "stream",
     "text": [
      "hai this is balaji\n",
      "\n",
      "im enjoying to learn this ai/ml \n",
      "\n",
      "heartful thnx to letsupgrade team\n",
      "\n"
     ]
    }
   ],
   "source": [
    "file=open('file1.txt','w')\n",
    "text=[\"hai this is balaji\\n\",\"im enjoying to learn this ai/ml \\n\",\"heartful thnx to letsupgrade team\\n\"]\n",
    "file.writelines(text)\n",
    "file.close()\n",
    "new_file = open('file2.txt','w')\n",
    "file = open(\"file1.txt\",'r')\n",
    "for line in file:\n",
    "    new_file.writelines(line)\n",
    "new_file.close()\n",
    "file.close()\n",
    "new_file = open('file2.txt','r')\n",
    "for i in new_file:\n",
    "    print(i)\n",
    "new_file.close()\n"
   ]
  },
  {
   "cell_type": "markdown",
   "metadata": {},
   "source": [
    "# Question 2:\n",
    "### Write a Python program to find maximum and minimum values in the dictionary. Do not use built-in min\n",
    "### and max functions."
   ]
  },
  {
   "cell_type": "code",
   "execution_count": 11,
   "metadata": {},
   "outputs": [
    {
     "name": "stdout",
     "output_type": "stream",
     "text": [
      "Minimum value is : -22\n",
      "Maximum value is : 33\n"
     ]
    }
   ],
   "source": [
    "dic = {1:12,2:22,3:33,-22:25}\n",
    "max(dic)\n",
    "low,high = dic[1],dic[2]\n",
    "for i,j in dic.items():\n",
    "    if i < j :\n",
    "        if i < low:\n",
    "            low = i\n",
    "        if j > high:\n",
    "            high = j\n",
    "    elif i > j:\n",
    "        if i > high:\n",
    "            high = i\n",
    "        if j < low:\n",
    "            low = j\n",
    "print(\"Minimum value is :\",low)\n",
    "print(\"Maximum value is :\",high)"
   ]
  },
  {
   "cell_type": "code",
   "execution_count": null,
   "metadata": {},
   "outputs": [],
   "source": []
  },
  {
   "cell_type": "code",
   "execution_count": null,
   "metadata": {},
   "outputs": [],
   "source": []
  }
 ],
 "metadata": {
  "kernelspec": {
   "display_name": "Python 3",
   "language": "python",
   "name": "python3"
  },
  "language_info": {
   "codemirror_mode": {
    "name": "ipython",
    "version": 3
   },
   "file_extension": ".py",
   "mimetype": "text/x-python",
   "name": "python",
   "nbconvert_exporter": "python",
   "pygments_lexer": "ipython3",
   "version": "3.8.3"
  }
 },
 "nbformat": 4,
 "nbformat_minor": 4
}
