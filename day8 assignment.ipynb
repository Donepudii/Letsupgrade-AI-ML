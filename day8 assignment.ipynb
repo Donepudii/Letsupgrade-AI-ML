{
 "cells": [
  {
   "cell_type": "markdown",
   "metadata": {},
   "source": [
    "# Question 1:\n",
    "### Recreate “NB 21 map, filter, lambda.ipynb” to try different variations or perform different calculations from\n",
    "### # map(function, iterables)\n"
   ]
  },
  {
   "cell_type": "code",
   "execution_count": 3,
   "metadata": {},
   "outputs": [
    {
     "name": "stdout",
     "output_type": "stream",
     "text": [
      "[1, 4, 9, 49]\n",
      "[1, 4, 9, 49]\n",
      "(1, 4, 9, 49)\n",
      "{1, 4, 9, 49}\n",
      "<class 'list'>\n"
     ]
    }
   ],
   "source": [
    "# map(function, iterables)\n",
    "def sqr(a):\n",
    "    return a*a\n",
    "# your code goes here2\n",
    "x = list(map(sqr,[1,2,3,7]))\n",
    "print(x)\n",
    "print(list(x))\n",
    "print(tuple(x))\n",
    "print(set(x))\n",
    "print(type(x))"
   ]
  },
  {
   "cell_type": "code",
   "execution_count": 5,
   "metadata": {},
   "outputs": [
    {
     "name": "stdout",
     "output_type": "stream",
     "text": [
      "<filter object at 0x0000020F4CF445B0>\n",
      "<class 'filter'>\n",
      "[2, 3, 7]\n"
     ]
    }
   ],
   "source": [
    "#filter(function, iterables)\n",
    "def sqr(a):\n",
    "    if a>=2:\n",
    "        return a\n",
    "# your code goes here1.2\n",
    "x = filter( sqr, [1,2,3,7] )\n",
    "print(x)\n",
    "print(type(x))\n",
    "print(list(x))"
   ]
  },
  {
   "cell_type": "code",
   "execution_count": 7,
   "metadata": {},
   "outputs": [
    {
     "name": "stdout",
     "output_type": "stream",
     "text": [
      "[4, 6, 10, 14]\n"
     ]
    }
   ],
   "source": [
    "# with lambda\n",
    "x = lambda a,b,c: a*b*c\n",
    "y = list(map(x,[2,3,5,7],[1,1,1,1],[2,2,2,2]))\n",
    "print(y)"
   ]
  },
  {
   "cell_type": "code",
   "execution_count": 8,
   "metadata": {},
   "outputs": [
    {
     "name": "stdout",
     "output_type": "stream",
     "text": [
      "enter factorial number : 5\n",
      "120\n"
     ]
    }
   ],
   "source": [
    "# reduce(function, iterables)\n",
    "from functools import reduce # its required here\n",
    "n = int(input(\"enter factorial number : \"))\n",
    "def fac(a,b):\n",
    "    return a*b\n",
    "# your code goes here1+5\n",
    "x = reduce(fac,list(range(1,n+1)))\n",
    "print(x)"
   ]
  },
  {
   "cell_type": "markdown",
   "metadata": {},
   "source": [
    "# Question 2:\n",
    "### Recreate your own Python NB for “Classes and Objects” from the pdf provided namely\n",
    "### “Classes&Objects.pdf”"
   ]
  },
  {
   "cell_type": "code",
   "execution_count": 9,
   "metadata": {},
   "outputs": [
    {
     "name": "stdout",
     "output_type": "stream",
     "text": [
      "1\n",
      "True\n",
      "None\n",
      "10\n",
      "None\n",
      "False\n"
     ]
    }
   ],
   "source": [
    "# creating classes\n",
    "class ClassName:\n",
    "    pass\n",
    "# creating instance objects\n",
    "# to create instance objects we use constructors in python\n",
    "class New_class:\n",
    "    def __init__(self,a,b):\n",
    "        self.a = a\n",
    "        self.b = b\n",
    "#creating object\n",
    "obj = New_class(1,2)\n",
    "# Accesing Attributes\n",
    "print(getattr(obj,'a'))\n",
    "print(hasattr(obj,'a'))\n",
    "print(setattr(obj,'b',10))\n",
    "print(obj.b)\n",
    "print(delattr(obj,'a'))\n",
    "print(hasattr(obj,'a'))"
   ]
  },
  {
   "cell_type": "code",
   "execution_count": null,
   "metadata": {},
   "outputs": [],
   "source": []
  }
 ],
 "metadata": {
  "kernelspec": {
   "display_name": "Python 3",
   "language": "python",
   "name": "python3"
  },
  "language_info": {
   "codemirror_mode": {
    "name": "ipython",
    "version": 3
   },
   "file_extension": ".py",
   "mimetype": "text/x-python",
   "name": "python",
   "nbconvert_exporter": "python",
   "pygments_lexer": "ipython3",
   "version": "3.8.3"
  }
 },
 "nbformat": 4,
 "nbformat_minor": 4
}
